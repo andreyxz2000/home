{
  "nbformat": 4,
  "nbformat_minor": 0,
  "metadata": {
    "colab": {
      "provenance": [],
      "authorship_tag": "ABX9TyPrOoX58hbXoan22kdX4D/L",
      "include_colab_link": true
    },
    "kernelspec": {
      "name": "python3",
      "display_name": "Python 3"
    },
    "language_info": {
      "name": "python"
    }
  },
  "cells": [
    {
      "cell_type": "markdown",
      "metadata": {
        "id": "view-in-github",
        "colab_type": "text"
      },
      "source": [
        "<a href=\"https://colab.research.google.com/github/andreyxz2000/home/blob/main/%D0%A1%D0%BB%D1%83%D0%B6%D0%B5%D0%B1%D0%BD%D1%8B%D0%B5_%D1%81%D0%BA%D1%80%D0%B8%D0%BF%D1%82%D1%8B_%D0%B4%D0%BB%D1%8F_%D0%B0%D0%B2%D1%82%D0%BE%D0%BC%D0%B0%D1%82%D0%B8%D0%B7%D0%B0%D1%86%D0%B8%D0%B8_%D0%BE%D0%B1%D1%8A%D0%B5%D0%B4%D0%B8%D0%BD%D0%B5%D0%BD%D0%B8%D1%8F_%D0%B4%D0%B0%D1%82%D0%B0%D1%81%D0%B5%D1%82%D0%BE%D0%B2.ipynb\" target=\"_parent\"><img src=\"https://colab.research.google.com/assets/colab-badge.svg\" alt=\"Open In Colab\"/></a>"
      ]
    },
    {
      "cell_type": "code",
      "execution_count": null,
      "metadata": {
        "colab": {
          "base_uri": "https://localhost:8080/"
        },
        "id": "_8P_vFJDLBiB",
        "outputId": "959ba0fe-c934-4f4f-c61e-04cc33ccb613"
      },
      "outputs": [
        {
          "output_type": "stream",
          "name": "stdout",
          "text": [
            "Mounted at /content/drive\n"
          ]
        }
      ],
      "source": [
        "from google.colab import drive\n",
        "drive.mount('/content/drive')\n",
        "\n",
        "import pandas as pd\n",
        "import numpy as np\n",
        "\n",
        "import os\n",
        "import shutil\n",
        "\n"
      ]
    },
    {
      "cell_type": "code",
      "source": [
        "# название папки в '/content/drive/MyDrive/Учебные БД/ из которой будем перетаскивать файлы:\n",
        "start_folder = 'Исходники капуста'"
      ],
      "metadata": {
        "id": "9c5fIvKvSTrw"
      },
      "execution_count": null,
      "outputs": []
    },
    {
      "cell_type": "markdown",
      "source": [
        "Определяем максимальный номер в новой базе в папке train для определения номера с которого начнем перенумерацию новых файлов"
      ],
      "metadata": {
        "id": "8dlNZ70BNvnK"
      }
    },
    {
      "cell_type": "code",
      "source": [
        "import os\n",
        "\n",
        "valid_images_folder = '/content/drive/MyDrive/Учебные БД/data_store/train/images'\n",
        "\n",
        "# Проверяем существование папки\n",
        "if not os.path.exists(valid_images_folder):\n",
        "    os.makedirs(valid_images_folder)  # Создаем папку, если она не существует\n",
        "    max_number = 0\n",
        "else:\n",
        "    # Получаем список файлов в папке\n",
        "    files = os.listdir(valid_images_folder)\n",
        "\n",
        "    # Ищем максимальное число в именах файлов (без расширения и точки)\n",
        "    max_number = 0\n",
        "    for file_name in files:\n",
        "        file_base_name = os.path.splitext(file_name)[0]\n",
        "        try:\n",
        "            number = int(file_base_name)\n",
        "            max_number = max(max_number, number)\n",
        "        except ValueError:\n",
        "            pass  # Игнорируем файлы с неправильными именами\n",
        "\n",
        "print(f\"Максимальное число в именах файлов: {max_number}\")\n"
      ],
      "metadata": {
        "colab": {
          "base_uri": "https://localhost:8080/"
        },
        "outputId": "8facf106-533f-4794-adbe-e909785951be",
        "id": "pBqSMs2GNvnL"
      },
      "execution_count": null,
      "outputs": [
        {
          "output_type": "stream",
          "name": "stdout",
          "text": [
            "Максимальное число в именах файлов: 681\n"
          ]
        }
      ]
    },
    {
      "cell_type": "markdown",
      "source": [
        "# Переименования файлов в train"
      ],
      "metadata": {
        "id": "lT-AZCUlE8lP"
      }
    },
    {
      "cell_type": "markdown",
      "source": [
        "Переименование images"
      ],
      "metadata": {
        "id": "ic6OSuclIMTl"
      }
    },
    {
      "cell_type": "code",
      "source": [
        "import os\n",
        "import shutil\n",
        "\n",
        "source_folder = f'/content/drive/MyDrive/Учебные БД/{start_folder}/train/images/'\n",
        "destination_folder = '/content/drive/MyDrive/Учебные БД/data_store/train/images/'\n",
        "\n",
        "# Проверяем, существует ли исходная папка\n",
        "if not os.path.exists(source_folder):\n",
        "    print(f\"Исходная папка '{source_folder}' не существует.\")\n",
        "else:\n",
        "    # Создаем папку назначения, если она не существует\n",
        "    os.makedirs(destination_folder, exist_ok=True)\n",
        "\n",
        "    file_count = max_number+1  # Начнем нумерацию с 100\n",
        "    file_mapping = {}  # Словарь для отображения имен файлов\n",
        "\n",
        "    for root, _, files in os.walk(source_folder):\n",
        "        for file in files:\n",
        "            source_path = os.path.join(root, file)\n",
        "            # Получаем базовое имя файла без расширения и точки\n",
        "            file_name = os.path.splitext(file)[0]\n",
        "            # Генерируем новое имя файла, начиная с 100\n",
        "            destination_filename = str(file_count)\n",
        "            destination_path = os.path.join(destination_folder, f\"{destination_filename}.jpg\")\n",
        "\n",
        "            # Копируем файл и увеличиваем счетчик\n",
        "            shutil.copy(source_path, destination_path)\n",
        "\n",
        "            # Добавляем запись в словарь\n",
        "            file_mapping[file_name] = destination_filename\n",
        "\n",
        "            file_count += 1\n",
        "            print(f\"Скопирован файл: {source_path} -> {destination_path}\")\n",
        "\n",
        "# Выводим словарь с отображением имен файлов\n",
        "print(\"\\nОтображение имен файлов:\")\n",
        "for source_name, destination_name in file_mapping.items():\n",
        "    print(f\"{source_name}: {destination_name}\")\n",
        "\n",
        "print(\"\\nЗавершено.\")\n"
      ],
      "metadata": {
        "colab": {
          "base_uri": "https://localhost:8080/"
        },
        "id": "Ovnx9DjdE7dN",
        "outputId": "c925d3d8-5dbb-41de-e447-10d25bb5b4ff"
      },
      "execution_count": null,
      "outputs": [
        {
          "output_type": "stream",
          "name": "stdout",
          "text": [
            "Скопирован файл: /content/drive/MyDrive/Учебные БД/Исходники капуста/train/images/frame1_0128.jpg_transformed_5.jpg -> /content/drive/MyDrive/Учебные БД/data_store/train/images/682.jpg\n",
            "Скопирован файл: /content/drive/MyDrive/Учебные БД/Исходники капуста/train/images/frame1_0142.jpg_transformed_3.jpg -> /content/drive/MyDrive/Учебные БД/data_store/train/images/683.jpg\n",
            "Скопирован файл: /content/drive/MyDrive/Учебные БД/Исходники капуста/train/images/frame1_0151.jpg_transformed_3.jpg -> /content/drive/MyDrive/Учебные БД/data_store/train/images/684.jpg\n",
            "Скопирован файл: /content/drive/MyDrive/Учебные БД/Исходники капуста/train/images/frame1_0142.jpg_transformed_6.jpg -> /content/drive/MyDrive/Учебные БД/data_store/train/images/685.jpg\n",
            "Скопирован файл: /content/drive/MyDrive/Учебные БД/Исходники капуста/train/images/frame1_0176.jpg_transformed_3.jpg -> /content/drive/MyDrive/Учебные БД/data_store/train/images/686.jpg\n",
            "Скопирован файл: /content/drive/MyDrive/Учебные БД/Исходники капуста/train/images/frame1_0151.jpg_transformed_0.jpg -> /content/drive/MyDrive/Учебные БД/data_store/train/images/687.jpg\n",
            "Скопирован файл: /content/drive/MyDrive/Учебные БД/Исходники капуста/train/images/frame1_0128.jpg_transformed_9.jpg -> /content/drive/MyDrive/Учебные БД/data_store/train/images/688.jpg\n",
            "Скопирован файл: /content/drive/MyDrive/Учебные БД/Исходники капуста/train/images/frame1_0233.jpg_transformed_4.jpg -> /content/drive/MyDrive/Учебные БД/data_store/train/images/689.jpg\n",
            "Скопирован файл: /content/drive/MyDrive/Учебные БД/Исходники капуста/train/images/frame1_0181.jpg_transformed_9.jpg -> /content/drive/MyDrive/Учебные БД/data_store/train/images/690.jpg\n",
            "Скопирован файл: /content/drive/MyDrive/Учебные БД/Исходники капуста/train/images/frame1_0170.jpg_transformed_8.jpg -> /content/drive/MyDrive/Учебные БД/data_store/train/images/691.jpg\n",
            "Скопирован файл: /content/drive/MyDrive/Учебные БД/Исходники капуста/train/images/frame1_0257.jpg_transformed_0.jpg -> /content/drive/MyDrive/Учебные БД/data_store/train/images/692.jpg\n",
            "Скопирован файл: /content/drive/MyDrive/Учебные БД/Исходники капуста/train/images/frame1_0128.jpg_transformed_6.jpg -> /content/drive/MyDrive/Учебные БД/data_store/train/images/693.jpg\n",
            "Скопирован файл: /content/drive/MyDrive/Учебные БД/Исходники капуста/train/images/frame1_0170.jpg_transformed_9.jpg -> /content/drive/MyDrive/Учебные БД/data_store/train/images/694.jpg\n",
            "Скопирован файл: /content/drive/MyDrive/Учебные БД/Исходники капуста/train/images/frame1_0128.jpg_transformed_3.jpg -> /content/drive/MyDrive/Учебные БД/data_store/train/images/695.jpg\n",
            "Скопирован файл: /content/drive/MyDrive/Учебные БД/Исходники капуста/train/images/frame1_0170.jpg_transformed_7.jpg -> /content/drive/MyDrive/Учебные БД/data_store/train/images/696.jpg\n",
            "Скопирован файл: /content/drive/MyDrive/Учебные БД/Исходники капуста/train/images/frame1_0151.jpg_transformed_4.jpg -> /content/drive/MyDrive/Учебные БД/data_store/train/images/697.jpg\n",
            "Скопирован файл: /content/drive/MyDrive/Учебные БД/Исходники капуста/train/images/frame1_0142.jpg_transformed_7.jpg -> /content/drive/MyDrive/Учебные БД/data_store/train/images/698.jpg\n",
            "Скопирован файл: /content/drive/MyDrive/Учебные БД/Исходники капуста/train/images/frame1_0176.jpg_transformed_7.jpg -> /content/drive/MyDrive/Учебные БД/data_store/train/images/699.jpg\n",
            "Скопирован файл: /content/drive/MyDrive/Учебные БД/Исходники капуста/train/images/frame1_0202.jpg_transformed_2.jpg -> /content/drive/MyDrive/Учебные БД/data_store/train/images/700.jpg\n",
            "Скопирован файл: /content/drive/MyDrive/Учебные БД/Исходники капуста/train/images/frame1_0142.jpg_transformed_1.jpg -> /content/drive/MyDrive/Учебные БД/data_store/train/images/701.jpg\n",
            "Скопирован файл: /content/drive/MyDrive/Учебные БД/Исходники капуста/train/images/frame1_0142.jpg_transformed_8.jpg -> /content/drive/MyDrive/Учебные БД/data_store/train/images/702.jpg\n",
            "Скопирован файл: /content/drive/MyDrive/Учебные БД/Исходники капуста/train/images/frame1_0142.jpg_transformed_4.jpg -> /content/drive/MyDrive/Учебные БД/data_store/train/images/703.jpg\n",
            "Скопирован файл: /content/drive/MyDrive/Учебные БД/Исходники капуста/train/images/frame1_0233.jpg_transformed_5.jpg -> /content/drive/MyDrive/Учебные БД/data_store/train/images/704.jpg\n",
            "Скопирован файл: /content/drive/MyDrive/Учебные БД/Исходники капуста/train/images/frame1_0181.jpg_transformed_1.jpg -> /content/drive/MyDrive/Учебные БД/data_store/train/images/705.jpg\n",
            "Скопирован файл: /content/drive/MyDrive/Учебные БД/Исходники капуста/train/images/frame1_0241.jpg_transformed_8.jpg -> /content/drive/MyDrive/Учебные БД/data_store/train/images/706.jpg\n",
            "Скопирован файл: /content/drive/MyDrive/Учебные БД/Исходники капуста/train/images/frame1_0181.jpg_transformed_3.jpg -> /content/drive/MyDrive/Учебные БД/data_store/train/images/707.jpg\n",
            "Скопирован файл: /content/drive/MyDrive/Учебные БД/Исходники капуста/train/images/frame1_0257.jpg_transformed_4.jpg -> /content/drive/MyDrive/Учебные БД/data_store/train/images/708.jpg\n",
            "Скопирован файл: /content/drive/MyDrive/Учебные БД/Исходники капуста/train/images/frame1_0233.jpg_transformed_6.jpg -> /content/drive/MyDrive/Учебные БД/data_store/train/images/709.jpg\n",
            "Скопирован файл: /content/drive/MyDrive/Учебные БД/Исходники капуста/train/images/frame1_0151.jpg_transformed_2.jpg -> /content/drive/MyDrive/Учебные БД/data_store/train/images/710.jpg\n",
            "Скопирован файл: /content/drive/MyDrive/Учебные БД/Исходники капуста/train/images/frame1_0181.jpg_transformed_6.jpg -> /content/drive/MyDrive/Учебные БД/data_store/train/images/711.jpg\n",
            "Скопирован файл: /content/drive/MyDrive/Учебные БД/Исходники капуста/train/images/frame1_0233.jpg_transformed_3.jpg -> /content/drive/MyDrive/Учебные БД/data_store/train/images/712.jpg\n",
            "Скопирован файл: /content/drive/MyDrive/Учебные БД/Исходники капуста/train/images/frame1_0176.jpg_transformed_5.jpg -> /content/drive/MyDrive/Учебные БД/data_store/train/images/713.jpg\n",
            "Скопирован файл: /content/drive/MyDrive/Учебные БД/Исходники капуста/train/images/frame1_0176.jpg_transformed_0.jpg -> /content/drive/MyDrive/Учебные БД/data_store/train/images/714.jpg\n",
            "Скопирован файл: /content/drive/MyDrive/Учебные БД/Исходники капуста/train/images/frame1_0257.jpg_transformed_6.jpg -> /content/drive/MyDrive/Учебные БД/data_store/train/images/715.jpg\n",
            "Скопирован файл: /content/drive/MyDrive/Учебные БД/Исходники капуста/train/images/frame1_0170.jpg_transformed_6.jpg -> /content/drive/MyDrive/Учебные БД/data_store/train/images/716.jpg\n",
            "Скопирован файл: /content/drive/MyDrive/Учебные БД/Исходники капуста/train/images/frame1_0181.jpg_transformed_7.jpg -> /content/drive/MyDrive/Учебные БД/data_store/train/images/717.jpg\n",
            "Скопирован файл: /content/drive/MyDrive/Учебные БД/Исходники капуста/train/images/frame1_0176.jpg_transformed_2.jpg -> /content/drive/MyDrive/Учебные БД/data_store/train/images/718.jpg\n",
            "Скопирован файл: /content/drive/MyDrive/Учебные БД/Исходники капуста/train/images/frame1_0233.jpg_transformed_8.jpg -> /content/drive/MyDrive/Учебные БД/data_store/train/images/719.jpg\n",
            "Скопирован файл: /content/drive/MyDrive/Учебные БД/Исходники капуста/train/images/frame1_0148.jpg_transformed_1.jpg -> /content/drive/MyDrive/Учебные БД/data_store/train/images/720.jpg\n",
            "Скопирован файл: /content/drive/MyDrive/Учебные БД/Исходники капуста/train/images/frame1_0181.jpg_transformed_5.jpg -> /content/drive/MyDrive/Учебные БД/data_store/train/images/721.jpg\n",
            "Скопирован файл: /content/drive/MyDrive/Учебные БД/Исходники капуста/train/images/frame1_0202.jpg_transformed_5.jpg -> /content/drive/MyDrive/Учебные БД/data_store/train/images/722.jpg\n",
            "Скопирован файл: /content/drive/MyDrive/Учебные БД/Исходники капуста/train/images/frame1_0128.jpg_transformed_1.jpg -> /content/drive/MyDrive/Учебные БД/data_store/train/images/723.jpg\n",
            "Скопирован файл: /content/drive/MyDrive/Учебные БД/Исходники капуста/train/images/frame1_0176.jpg_transformed_4.jpg -> /content/drive/MyDrive/Учебные БД/data_store/train/images/724.jpg\n",
            "Скопирован файл: /content/drive/MyDrive/Учебные БД/Исходники капуста/train/images/frame1_0181.jpg_transformed_2.jpg -> /content/drive/MyDrive/Учебные БД/data_store/train/images/725.jpg\n",
            "Скопирован файл: /content/drive/MyDrive/Учебные БД/Исходники капуста/train/images/frame1_0181.jpg_transformed_0.jpg -> /content/drive/MyDrive/Учебные БД/data_store/train/images/726.jpg\n",
            "Скопирован файл: /content/drive/MyDrive/Учебные БД/Исходники капуста/train/images/frame1_0142.jpg_transformed_5.jpg -> /content/drive/MyDrive/Учебные БД/data_store/train/images/727.jpg\n",
            "Скопирован файл: /content/drive/MyDrive/Учебные БД/Исходники капуста/train/images/frame1_0142.jpg_transformed_0.jpg -> /content/drive/MyDrive/Учебные БД/data_store/train/images/728.jpg\n",
            "Скопирован файл: /content/drive/MyDrive/Учебные БД/Исходники капуста/train/images/frame1_0257.jpg_transformed_8.jpg -> /content/drive/MyDrive/Учебные БД/data_store/train/images/729.jpg\n",
            "Скопирован файл: /content/drive/MyDrive/Учебные БД/Исходники капуста/train/images/frame1_0142.jpg_transformed_9.jpg -> /content/drive/MyDrive/Учебные БД/data_store/train/images/730.jpg\n",
            "Скопирован файл: /content/drive/MyDrive/Учебные БД/Исходники капуста/train/images/frame1_0233.jpg_transformed_0.jpg -> /content/drive/MyDrive/Учебные БД/data_store/train/images/731.jpg\n",
            "Скопирован файл: /content/drive/MyDrive/Учебные БД/Исходники капуста/train/images/frame1_0233.jpg_transformed_9.jpg -> /content/drive/MyDrive/Учебные БД/data_store/train/images/732.jpg\n",
            "Скопирован файл: /content/drive/MyDrive/Учебные БД/Исходники капуста/train/images/frame1_0241.jpg_transformed_9.jpg -> /content/drive/MyDrive/Учебные БД/data_store/train/images/733.jpg\n",
            "Скопирован файл: /content/drive/MyDrive/Учебные БД/Исходники капуста/train/images/frame1_0128.jpg_transformed_0.jpg -> /content/drive/MyDrive/Учебные БД/data_store/train/images/734.jpg\n",
            "Скопирован файл: /content/drive/MyDrive/Учебные БД/Исходники капуста/train/images/frame1_0202.jpg_transformed_1.jpg -> /content/drive/MyDrive/Учебные БД/data_store/train/images/735.jpg\n",
            "Скопирован файл: /content/drive/MyDrive/Учебные БД/Исходники капуста/train/images/frame1_0151.jpg_transformed_6.jpg -> /content/drive/MyDrive/Учебные БД/data_store/train/images/736.jpg\n",
            "Скопирован файл: /content/drive/MyDrive/Учебные БД/Исходники капуста/train/images/frame1_0257.jpg_transformed_5.jpg -> /content/drive/MyDrive/Учебные БД/data_store/train/images/737.jpg\n",
            "Скопирован файл: /content/drive/MyDrive/Учебные БД/Исходники капуста/train/images/frame1_0128.jpg_transformed_4.jpg -> /content/drive/MyDrive/Учебные БД/data_store/train/images/738.jpg\n",
            "Скопирован файл: /content/drive/MyDrive/Учебные БД/Исходники капуста/train/images/frame1_0176.jpg_transformed_1.jpg -> /content/drive/MyDrive/Учебные БД/data_store/train/images/739.jpg\n",
            "Скопирован файл: /content/drive/MyDrive/Учебные БД/Исходники капуста/train/images/frame1_0181.jpg_transformed_4.jpg -> /content/drive/MyDrive/Учебные БД/data_store/train/images/740.jpg\n",
            "Скопирован файл: /content/drive/MyDrive/Учебные БД/Исходники капуста/train/images/frame1_0142.jpg_transformed_2.jpg -> /content/drive/MyDrive/Учебные БД/data_store/train/images/741.jpg\n",
            "Скопирован файл: /content/drive/MyDrive/Учебные БД/Исходники капуста/train/images/frame1_0241.jpg_transformed_7.jpg -> /content/drive/MyDrive/Учебные БД/data_store/train/images/742.jpg\n",
            "Скопирован файл: /content/drive/MyDrive/Учебные БД/Исходники капуста/train/images/frame1_0202.jpg_transformed_3.jpg -> /content/drive/MyDrive/Учебные БД/data_store/train/images/743.jpg\n",
            "Скопирован файл: /content/drive/MyDrive/Учебные БД/Исходники капуста/train/images/frame1_0257.jpg_transformed_7.jpg -> /content/drive/MyDrive/Учебные БД/data_store/train/images/744.jpg\n",
            "Скопирован файл: /content/drive/MyDrive/Учебные БД/Исходники капуста/train/images/frame1_0233.jpg_transformed_7.jpg -> /content/drive/MyDrive/Учебные БД/data_store/train/images/745.jpg\n",
            "Скопирован файл: /content/drive/MyDrive/Учебные БД/Исходники капуста/train/images/frame1_0202.jpg_transformed_6.jpg -> /content/drive/MyDrive/Учебные БД/data_store/train/images/746.jpg\n",
            "Скопирован файл: /content/drive/MyDrive/Учебные БД/Исходники капуста/train/images/frame1_0181.jpg_transformed_8.jpg -> /content/drive/MyDrive/Учебные БД/data_store/train/images/747.jpg\n",
            "Скопирован файл: /content/drive/MyDrive/Учебные БД/Исходники капуста/train/images/frame1_0128.jpg_transformed_2.jpg -> /content/drive/MyDrive/Учебные БД/data_store/train/images/748.jpg\n",
            "Скопирован файл: /content/drive/MyDrive/Учебные БД/Исходники капуста/train/images/frame1_0233.jpg_transformed_2.jpg -> /content/drive/MyDrive/Учебные БД/data_store/train/images/749.jpg\n",
            "Скопирован файл: /content/drive/MyDrive/Учебные БД/Исходники капуста/train/images/frame1_0128.jpg_transformed_8.jpg -> /content/drive/MyDrive/Учебные БД/data_store/train/images/750.jpg\n",
            "Скопирован файл: /content/drive/MyDrive/Учебные БД/Исходники капуста/train/images/frame1_0176.jpg_transformed_6.jpg -> /content/drive/MyDrive/Учебные БД/data_store/train/images/751.jpg\n",
            "Скопирован файл: /content/drive/MyDrive/Учебные БД/Исходники капуста/train/images/frame1_0151.jpg_transformed_1.jpg -> /content/drive/MyDrive/Учебные БД/data_store/train/images/752.jpg\n",
            "Скопирован файл: /content/drive/MyDrive/Учебные БД/Исходники капуста/train/images/frame1_0257.jpg_transformed_2.jpg -> /content/drive/MyDrive/Учебные БД/data_store/train/images/753.jpg\n",
            "Скопирован файл: /content/drive/MyDrive/Учебные БД/Исходники капуста/train/images/frame1_0202.jpg_transformed_9.jpg -> /content/drive/MyDrive/Учебные БД/data_store/train/images/754.jpg\n",
            "Скопирован файл: /content/drive/MyDrive/Учебные БД/Исходники капуста/train/images/frame1_0233.jpg_transformed_1.jpg -> /content/drive/MyDrive/Учебные БД/data_store/train/images/755.jpg\n",
            "Скопирован файл: /content/drive/MyDrive/Учебные БД/Исходники капуста/train/images/frame1_0128.jpg_transformed_7.jpg -> /content/drive/MyDrive/Учебные БД/data_store/train/images/756.jpg\n",
            "Скопирован файл: /content/drive/MyDrive/Учебные БД/Исходники капуста/train/images/frame1_0184.jpg_transformed_7.jpg -> /content/drive/MyDrive/Учебные БД/data_store/train/images/757.jpg\n",
            "Скопирован файл: /content/drive/MyDrive/Учебные БД/Исходники капуста/train/images/frame1_0125.jpg_transformed_8.jpg -> /content/drive/MyDrive/Учебные БД/data_store/train/images/758.jpg\n",
            "Скопирован файл: /content/drive/MyDrive/Учебные БД/Исходники капуста/train/images/frame1_0184.jpg_transformed_3.jpg -> /content/drive/MyDrive/Учебные БД/data_store/train/images/759.jpg\n",
            "Скопирован файл: /content/drive/MyDrive/Учебные БД/Исходники капуста/train/images/frame1_0125.jpg_transformed_5.jpg -> /content/drive/MyDrive/Учебные БД/data_store/train/images/760.jpg\n",
            "Скопирован файл: /content/drive/MyDrive/Учебные БД/Исходники капуста/train/images/frame1_0125.jpg_transformed_4.jpg -> /content/drive/MyDrive/Учебные БД/data_store/train/images/761.jpg\n",
            "Скопирован файл: /content/drive/MyDrive/Учебные БД/Исходники капуста/train/images/frame1_0125.jpg_transformed_1.jpg -> /content/drive/MyDrive/Учебные БД/data_store/train/images/762.jpg\n",
            "Скопирован файл: /content/drive/MyDrive/Учебные БД/Исходники капуста/train/images/frame1_0176.jpg_transformed_9.jpg -> /content/drive/MyDrive/Учебные БД/data_store/train/images/763.jpg\n",
            "Скопирован файл: /content/drive/MyDrive/Учебные БД/Исходники капуста/train/images/frame1_0184.jpg_transformed_6.jpg -> /content/drive/MyDrive/Учебные БД/data_store/train/images/764.jpg\n",
            "Скопирован файл: /content/drive/MyDrive/Учебные БД/Исходники капуста/train/images/frame1_0101.jpg_transformed_0.jpg -> /content/drive/MyDrive/Учебные БД/data_store/train/images/765.jpg\n",
            "Скопирован файл: /content/drive/MyDrive/Учебные БД/Исходники капуста/train/images/frame1_0125.jpg_transformed_0.jpg -> /content/drive/MyDrive/Учебные БД/data_store/train/images/766.jpg\n",
            "Скопирован файл: /content/drive/MyDrive/Учебные БД/Исходники капуста/train/images/frame1_0125.jpg_transformed_6.jpg -> /content/drive/MyDrive/Учебные БД/data_store/train/images/767.jpg\n",
            "Скопирован файл: /content/drive/MyDrive/Учебные БД/Исходники капуста/train/images/frame1_0125.jpg_transformed_3.jpg -> /content/drive/MyDrive/Учебные БД/data_store/train/images/768.jpg\n",
            "Скопирован файл: /content/drive/MyDrive/Учебные БД/Исходники капуста/train/images/frame1_0184.jpg_transformed_0.jpg -> /content/drive/MyDrive/Учебные БД/data_store/train/images/769.jpg\n",
            "Скопирован файл: /content/drive/MyDrive/Учебные БД/Исходники капуста/train/images/frame1_0101.jpg_transformed_1.jpg -> /content/drive/MyDrive/Учебные БД/data_store/train/images/770.jpg\n",
            "Скопирован файл: /content/drive/MyDrive/Учебные БД/Исходники капуста/train/images/frame1_0125.jpg_transformed_7.jpg -> /content/drive/MyDrive/Учебные БД/data_store/train/images/771.jpg\n",
            "Скопирован файл: /content/drive/MyDrive/Учебные БД/Исходники капуста/train/images/frame1_0125.jpg_transformed_9.jpg -> /content/drive/MyDrive/Учебные БД/data_store/train/images/772.jpg\n",
            "Скопирован файл: /content/drive/MyDrive/Учебные БД/Исходники капуста/train/images/frame1_0125.jpg_transformed_2.jpg -> /content/drive/MyDrive/Учебные БД/data_store/train/images/773.jpg\n",
            "Скопирован файл: /content/drive/MyDrive/Учебные БД/Исходники капуста/train/images/frame1_0184.jpg_transformed_8.jpg -> /content/drive/MyDrive/Учебные БД/data_store/train/images/774.jpg\n",
            "Скопирован файл: /content/drive/MyDrive/Учебные БД/Исходники капуста/train/images/frame1_0184.jpg_transformed_2.jpg -> /content/drive/MyDrive/Учебные БД/data_store/train/images/775.jpg\n",
            "Скопирован файл: /content/drive/MyDrive/Учебные БД/Исходники капуста/train/images/frame1_0184.jpg_transformed_4.jpg -> /content/drive/MyDrive/Учебные БД/data_store/train/images/776.jpg\n",
            "Скопирован файл: /content/drive/MyDrive/Учебные БД/Исходники капуста/train/images/frame1_0184.jpg_transformed_9.jpg -> /content/drive/MyDrive/Учебные БД/data_store/train/images/777.jpg\n",
            "Скопирован файл: /content/drive/MyDrive/Учебные БД/Исходники капуста/train/images/frame1_0148.jpg_transformed_0.jpg -> /content/drive/MyDrive/Учебные БД/data_store/train/images/778.jpg\n",
            "Скопирован файл: /content/drive/MyDrive/Учебные БД/Исходники капуста/train/images/frame1_0184.jpg_transformed_1.jpg -> /content/drive/MyDrive/Учебные БД/data_store/train/images/779.jpg\n",
            "Скопирован файл: /content/drive/MyDrive/Учебные БД/Исходники капуста/train/images/frame1_0184.jpg_transformed_5.jpg -> /content/drive/MyDrive/Учебные БД/data_store/train/images/780.jpg\n",
            "Скопирован файл: /content/drive/MyDrive/Учебные БД/Исходники капуста/train/images/frame1_0176.jpg_transformed_8.jpg -> /content/drive/MyDrive/Учебные БД/data_store/train/images/781.jpg\n",
            "\n",
            "Отображение имен файлов:\n",
            "frame1_0128.jpg_transformed_5: 682\n",
            "frame1_0142.jpg_transformed_3: 683\n",
            "frame1_0151.jpg_transformed_3: 684\n",
            "frame1_0142.jpg_transformed_6: 685\n",
            "frame1_0176.jpg_transformed_3: 686\n",
            "frame1_0151.jpg_transformed_0: 687\n",
            "frame1_0128.jpg_transformed_9: 688\n",
            "frame1_0233.jpg_transformed_4: 689\n",
            "frame1_0181.jpg_transformed_9: 690\n",
            "frame1_0170.jpg_transformed_8: 691\n",
            "frame1_0257.jpg_transformed_0: 692\n",
            "frame1_0128.jpg_transformed_6: 693\n",
            "frame1_0170.jpg_transformed_9: 694\n",
            "frame1_0128.jpg_transformed_3: 695\n",
            "frame1_0170.jpg_transformed_7: 696\n",
            "frame1_0151.jpg_transformed_4: 697\n",
            "frame1_0142.jpg_transformed_7: 698\n",
            "frame1_0176.jpg_transformed_7: 699\n",
            "frame1_0202.jpg_transformed_2: 700\n",
            "frame1_0142.jpg_transformed_1: 701\n",
            "frame1_0142.jpg_transformed_8: 702\n",
            "frame1_0142.jpg_transformed_4: 703\n",
            "frame1_0233.jpg_transformed_5: 704\n",
            "frame1_0181.jpg_transformed_1: 705\n",
            "frame1_0241.jpg_transformed_8: 706\n",
            "frame1_0181.jpg_transformed_3: 707\n",
            "frame1_0257.jpg_transformed_4: 708\n",
            "frame1_0233.jpg_transformed_6: 709\n",
            "frame1_0151.jpg_transformed_2: 710\n",
            "frame1_0181.jpg_transformed_6: 711\n",
            "frame1_0233.jpg_transformed_3: 712\n",
            "frame1_0176.jpg_transformed_5: 713\n",
            "frame1_0176.jpg_transformed_0: 714\n",
            "frame1_0257.jpg_transformed_6: 715\n",
            "frame1_0170.jpg_transformed_6: 716\n",
            "frame1_0181.jpg_transformed_7: 717\n",
            "frame1_0176.jpg_transformed_2: 718\n",
            "frame1_0233.jpg_transformed_8: 719\n",
            "frame1_0148.jpg_transformed_1: 720\n",
            "frame1_0181.jpg_transformed_5: 721\n",
            "frame1_0202.jpg_transformed_5: 722\n",
            "frame1_0128.jpg_transformed_1: 723\n",
            "frame1_0176.jpg_transformed_4: 724\n",
            "frame1_0181.jpg_transformed_2: 725\n",
            "frame1_0181.jpg_transformed_0: 726\n",
            "frame1_0142.jpg_transformed_5: 727\n",
            "frame1_0142.jpg_transformed_0: 728\n",
            "frame1_0257.jpg_transformed_8: 729\n",
            "frame1_0142.jpg_transformed_9: 730\n",
            "frame1_0233.jpg_transformed_0: 731\n",
            "frame1_0233.jpg_transformed_9: 732\n",
            "frame1_0241.jpg_transformed_9: 733\n",
            "frame1_0128.jpg_transformed_0: 734\n",
            "frame1_0202.jpg_transformed_1: 735\n",
            "frame1_0151.jpg_transformed_6: 736\n",
            "frame1_0257.jpg_transformed_5: 737\n",
            "frame1_0128.jpg_transformed_4: 738\n",
            "frame1_0176.jpg_transformed_1: 739\n",
            "frame1_0181.jpg_transformed_4: 740\n",
            "frame1_0142.jpg_transformed_2: 741\n",
            "frame1_0241.jpg_transformed_7: 742\n",
            "frame1_0202.jpg_transformed_3: 743\n",
            "frame1_0257.jpg_transformed_7: 744\n",
            "frame1_0233.jpg_transformed_7: 745\n",
            "frame1_0202.jpg_transformed_6: 746\n",
            "frame1_0181.jpg_transformed_8: 747\n",
            "frame1_0128.jpg_transformed_2: 748\n",
            "frame1_0233.jpg_transformed_2: 749\n",
            "frame1_0128.jpg_transformed_8: 750\n",
            "frame1_0176.jpg_transformed_6: 751\n",
            "frame1_0151.jpg_transformed_1: 752\n",
            "frame1_0257.jpg_transformed_2: 753\n",
            "frame1_0202.jpg_transformed_9: 754\n",
            "frame1_0233.jpg_transformed_1: 755\n",
            "frame1_0128.jpg_transformed_7: 756\n",
            "frame1_0184.jpg_transformed_7: 757\n",
            "frame1_0125.jpg_transformed_8: 758\n",
            "frame1_0184.jpg_transformed_3: 759\n",
            "frame1_0125.jpg_transformed_5: 760\n",
            "frame1_0125.jpg_transformed_4: 761\n",
            "frame1_0125.jpg_transformed_1: 762\n",
            "frame1_0176.jpg_transformed_9: 763\n",
            "frame1_0184.jpg_transformed_6: 764\n",
            "frame1_0101.jpg_transformed_0: 765\n",
            "frame1_0125.jpg_transformed_0: 766\n",
            "frame1_0125.jpg_transformed_6: 767\n",
            "frame1_0125.jpg_transformed_3: 768\n",
            "frame1_0184.jpg_transformed_0: 769\n",
            "frame1_0101.jpg_transformed_1: 770\n",
            "frame1_0125.jpg_transformed_7: 771\n",
            "frame1_0125.jpg_transformed_9: 772\n",
            "frame1_0125.jpg_transformed_2: 773\n",
            "frame1_0184.jpg_transformed_8: 774\n",
            "frame1_0184.jpg_transformed_2: 775\n",
            "frame1_0184.jpg_transformed_4: 776\n",
            "frame1_0184.jpg_transformed_9: 777\n",
            "frame1_0148.jpg_transformed_0: 778\n",
            "frame1_0184.jpg_transformed_1: 779\n",
            "frame1_0184.jpg_transformed_5: 780\n",
            "frame1_0176.jpg_transformed_8: 781\n",
            "\n",
            "Завершено.\n"
          ]
        }
      ]
    },
    {
      "cell_type": "markdown",
      "source": [
        "Переименование в labels"
      ],
      "metadata": {
        "id": "t336AaCjIKfv"
      }
    },
    {
      "cell_type": "code",
      "source": [
        "import os\n",
        "import shutil\n",
        "\n",
        "source_folder_labels = f'/content/drive/MyDrive/Учебные БД/{start_folder}/train/labels/'\n",
        "destination_folder_labels = '/content/drive/MyDrive/Учебные БД/data_store/train/labels/'\n",
        "\n",
        "# Проверяем, существует ли исходная папка с метками\n",
        "if not os.path.exists(source_folder_labels):\n",
        "    print(f\"Исходная папка с метками '{source_folder_labels}' не существует.\")\n",
        "else:\n",
        "    # Создаем папку назначения для меток, если она не существует\n",
        "    os.makedirs(destination_folder_labels, exist_ok=True)\n",
        "\n",
        "    # Используем словарь file_mapping для переименования файлов\n",
        "    for source_name, destination_name in file_mapping.items():\n",
        "        source_path = os.path.join(source_folder_labels, f\"{source_name}.txt\")\n",
        "        destination_path = os.path.join(destination_folder_labels, f\"{destination_name}.txt\")\n",
        "\n",
        "        # Проверяем существование файла\n",
        "        if os.path.exists(source_path):\n",
        "            # Копируем файл и переименовываем\n",
        "            shutil.copy(source_path, destination_path)\n",
        "            print(f\"Скопирован файл с меткой: {source_path} -> {destination_path}\")\n",
        "        else:\n",
        "            print(f\"Файл с меткой не найден: {source_path}. Пропускаем.\")\n",
        "\n",
        "print(\"\\nЗавершено.\")\n"
      ],
      "metadata": {
        "colab": {
          "base_uri": "https://localhost:8080/"
        },
        "id": "kgUht3CzGU2x",
        "outputId": "48a2a865-aabb-4311-ef2e-7811dcd3015b"
      },
      "execution_count": null,
      "outputs": [
        {
          "output_type": "stream",
          "name": "stdout",
          "text": [
            "Скопирован файл с меткой: /content/drive/MyDrive/Учебные БД/Исходники капуста/train/labels/frame1_0128.jpg_transformed_5.txt -> /content/drive/MyDrive/Учебные БД/data_store/train/labels/682.txt\n",
            "Скопирован файл с меткой: /content/drive/MyDrive/Учебные БД/Исходники капуста/train/labels/frame1_0142.jpg_transformed_3.txt -> /content/drive/MyDrive/Учебные БД/data_store/train/labels/683.txt\n",
            "Скопирован файл с меткой: /content/drive/MyDrive/Учебные БД/Исходники капуста/train/labels/frame1_0151.jpg_transformed_3.txt -> /content/drive/MyDrive/Учебные БД/data_store/train/labels/684.txt\n",
            "Скопирован файл с меткой: /content/drive/MyDrive/Учебные БД/Исходники капуста/train/labels/frame1_0142.jpg_transformed_6.txt -> /content/drive/MyDrive/Учебные БД/data_store/train/labels/685.txt\n",
            "Скопирован файл с меткой: /content/drive/MyDrive/Учебные БД/Исходники капуста/train/labels/frame1_0176.jpg_transformed_3.txt -> /content/drive/MyDrive/Учебные БД/data_store/train/labels/686.txt\n",
            "Скопирован файл с меткой: /content/drive/MyDrive/Учебные БД/Исходники капуста/train/labels/frame1_0151.jpg_transformed_0.txt -> /content/drive/MyDrive/Учебные БД/data_store/train/labels/687.txt\n",
            "Скопирован файл с меткой: /content/drive/MyDrive/Учебные БД/Исходники капуста/train/labels/frame1_0128.jpg_transformed_9.txt -> /content/drive/MyDrive/Учебные БД/data_store/train/labels/688.txt\n",
            "Скопирован файл с меткой: /content/drive/MyDrive/Учебные БД/Исходники капуста/train/labels/frame1_0233.jpg_transformed_4.txt -> /content/drive/MyDrive/Учебные БД/data_store/train/labels/689.txt\n",
            "Скопирован файл с меткой: /content/drive/MyDrive/Учебные БД/Исходники капуста/train/labels/frame1_0181.jpg_transformed_9.txt -> /content/drive/MyDrive/Учебные БД/data_store/train/labels/690.txt\n",
            "Скопирован файл с меткой: /content/drive/MyDrive/Учебные БД/Исходники капуста/train/labels/frame1_0170.jpg_transformed_8.txt -> /content/drive/MyDrive/Учебные БД/data_store/train/labels/691.txt\n",
            "Скопирован файл с меткой: /content/drive/MyDrive/Учебные БД/Исходники капуста/train/labels/frame1_0257.jpg_transformed_0.txt -> /content/drive/MyDrive/Учебные БД/data_store/train/labels/692.txt\n",
            "Скопирован файл с меткой: /content/drive/MyDrive/Учебные БД/Исходники капуста/train/labels/frame1_0128.jpg_transformed_6.txt -> /content/drive/MyDrive/Учебные БД/data_store/train/labels/693.txt\n",
            "Скопирован файл с меткой: /content/drive/MyDrive/Учебные БД/Исходники капуста/train/labels/frame1_0170.jpg_transformed_9.txt -> /content/drive/MyDrive/Учебные БД/data_store/train/labels/694.txt\n",
            "Скопирован файл с меткой: /content/drive/MyDrive/Учебные БД/Исходники капуста/train/labels/frame1_0128.jpg_transformed_3.txt -> /content/drive/MyDrive/Учебные БД/data_store/train/labels/695.txt\n",
            "Скопирован файл с меткой: /content/drive/MyDrive/Учебные БД/Исходники капуста/train/labels/frame1_0170.jpg_transformed_7.txt -> /content/drive/MyDrive/Учебные БД/data_store/train/labels/696.txt\n",
            "Скопирован файл с меткой: /content/drive/MyDrive/Учебные БД/Исходники капуста/train/labels/frame1_0151.jpg_transformed_4.txt -> /content/drive/MyDrive/Учебные БД/data_store/train/labels/697.txt\n",
            "Скопирован файл с меткой: /content/drive/MyDrive/Учебные БД/Исходники капуста/train/labels/frame1_0142.jpg_transformed_7.txt -> /content/drive/MyDrive/Учебные БД/data_store/train/labels/698.txt\n",
            "Скопирован файл с меткой: /content/drive/MyDrive/Учебные БД/Исходники капуста/train/labels/frame1_0176.jpg_transformed_7.txt -> /content/drive/MyDrive/Учебные БД/data_store/train/labels/699.txt\n",
            "Скопирован файл с меткой: /content/drive/MyDrive/Учебные БД/Исходники капуста/train/labels/frame1_0202.jpg_transformed_2.txt -> /content/drive/MyDrive/Учебные БД/data_store/train/labels/700.txt\n",
            "Скопирован файл с меткой: /content/drive/MyDrive/Учебные БД/Исходники капуста/train/labels/frame1_0142.jpg_transformed_1.txt -> /content/drive/MyDrive/Учебные БД/data_store/train/labels/701.txt\n",
            "Скопирован файл с меткой: /content/drive/MyDrive/Учебные БД/Исходники капуста/train/labels/frame1_0142.jpg_transformed_8.txt -> /content/drive/MyDrive/Учебные БД/data_store/train/labels/702.txt\n",
            "Скопирован файл с меткой: /content/drive/MyDrive/Учебные БД/Исходники капуста/train/labels/frame1_0142.jpg_transformed_4.txt -> /content/drive/MyDrive/Учебные БД/data_store/train/labels/703.txt\n",
            "Скопирован файл с меткой: /content/drive/MyDrive/Учебные БД/Исходники капуста/train/labels/frame1_0233.jpg_transformed_5.txt -> /content/drive/MyDrive/Учебные БД/data_store/train/labels/704.txt\n",
            "Скопирован файл с меткой: /content/drive/MyDrive/Учебные БД/Исходники капуста/train/labels/frame1_0181.jpg_transformed_1.txt -> /content/drive/MyDrive/Учебные БД/data_store/train/labels/705.txt\n",
            "Скопирован файл с меткой: /content/drive/MyDrive/Учебные БД/Исходники капуста/train/labels/frame1_0241.jpg_transformed_8.txt -> /content/drive/MyDrive/Учебные БД/data_store/train/labels/706.txt\n",
            "Скопирован файл с меткой: /content/drive/MyDrive/Учебные БД/Исходники капуста/train/labels/frame1_0181.jpg_transformed_3.txt -> /content/drive/MyDrive/Учебные БД/data_store/train/labels/707.txt\n",
            "Скопирован файл с меткой: /content/drive/MyDrive/Учебные БД/Исходники капуста/train/labels/frame1_0257.jpg_transformed_4.txt -> /content/drive/MyDrive/Учебные БД/data_store/train/labels/708.txt\n",
            "Скопирован файл с меткой: /content/drive/MyDrive/Учебные БД/Исходники капуста/train/labels/frame1_0233.jpg_transformed_6.txt -> /content/drive/MyDrive/Учебные БД/data_store/train/labels/709.txt\n",
            "Скопирован файл с меткой: /content/drive/MyDrive/Учебные БД/Исходники капуста/train/labels/frame1_0151.jpg_transformed_2.txt -> /content/drive/MyDrive/Учебные БД/data_store/train/labels/710.txt\n",
            "Скопирован файл с меткой: /content/drive/MyDrive/Учебные БД/Исходники капуста/train/labels/frame1_0181.jpg_transformed_6.txt -> /content/drive/MyDrive/Учебные БД/data_store/train/labels/711.txt\n",
            "Скопирован файл с меткой: /content/drive/MyDrive/Учебные БД/Исходники капуста/train/labels/frame1_0233.jpg_transformed_3.txt -> /content/drive/MyDrive/Учебные БД/data_store/train/labels/712.txt\n",
            "Скопирован файл с меткой: /content/drive/MyDrive/Учебные БД/Исходники капуста/train/labels/frame1_0176.jpg_transformed_5.txt -> /content/drive/MyDrive/Учебные БД/data_store/train/labels/713.txt\n",
            "Скопирован файл с меткой: /content/drive/MyDrive/Учебные БД/Исходники капуста/train/labels/frame1_0176.jpg_transformed_0.txt -> /content/drive/MyDrive/Учебные БД/data_store/train/labels/714.txt\n",
            "Скопирован файл с меткой: /content/drive/MyDrive/Учебные БД/Исходники капуста/train/labels/frame1_0257.jpg_transformed_6.txt -> /content/drive/MyDrive/Учебные БД/data_store/train/labels/715.txt\n",
            "Скопирован файл с меткой: /content/drive/MyDrive/Учебные БД/Исходники капуста/train/labels/frame1_0170.jpg_transformed_6.txt -> /content/drive/MyDrive/Учебные БД/data_store/train/labels/716.txt\n",
            "Скопирован файл с меткой: /content/drive/MyDrive/Учебные БД/Исходники капуста/train/labels/frame1_0181.jpg_transformed_7.txt -> /content/drive/MyDrive/Учебные БД/data_store/train/labels/717.txt\n",
            "Скопирован файл с меткой: /content/drive/MyDrive/Учебные БД/Исходники капуста/train/labels/frame1_0176.jpg_transformed_2.txt -> /content/drive/MyDrive/Учебные БД/data_store/train/labels/718.txt\n",
            "Скопирован файл с меткой: /content/drive/MyDrive/Учебные БД/Исходники капуста/train/labels/frame1_0233.jpg_transformed_8.txt -> /content/drive/MyDrive/Учебные БД/data_store/train/labels/719.txt\n",
            "Скопирован файл с меткой: /content/drive/MyDrive/Учебные БД/Исходники капуста/train/labels/frame1_0148.jpg_transformed_1.txt -> /content/drive/MyDrive/Учебные БД/data_store/train/labels/720.txt\n",
            "Скопирован файл с меткой: /content/drive/MyDrive/Учебные БД/Исходники капуста/train/labels/frame1_0181.jpg_transformed_5.txt -> /content/drive/MyDrive/Учебные БД/data_store/train/labels/721.txt\n",
            "Скопирован файл с меткой: /content/drive/MyDrive/Учебные БД/Исходники капуста/train/labels/frame1_0202.jpg_transformed_5.txt -> /content/drive/MyDrive/Учебные БД/data_store/train/labels/722.txt\n",
            "Скопирован файл с меткой: /content/drive/MyDrive/Учебные БД/Исходники капуста/train/labels/frame1_0128.jpg_transformed_1.txt -> /content/drive/MyDrive/Учебные БД/data_store/train/labels/723.txt\n",
            "Скопирован файл с меткой: /content/drive/MyDrive/Учебные БД/Исходники капуста/train/labels/frame1_0176.jpg_transformed_4.txt -> /content/drive/MyDrive/Учебные БД/data_store/train/labels/724.txt\n",
            "Скопирован файл с меткой: /content/drive/MyDrive/Учебные БД/Исходники капуста/train/labels/frame1_0181.jpg_transformed_2.txt -> /content/drive/MyDrive/Учебные БД/data_store/train/labels/725.txt\n",
            "Скопирован файл с меткой: /content/drive/MyDrive/Учебные БД/Исходники капуста/train/labels/frame1_0181.jpg_transformed_0.txt -> /content/drive/MyDrive/Учебные БД/data_store/train/labels/726.txt\n",
            "Скопирован файл с меткой: /content/drive/MyDrive/Учебные БД/Исходники капуста/train/labels/frame1_0142.jpg_transformed_5.txt -> /content/drive/MyDrive/Учебные БД/data_store/train/labels/727.txt\n",
            "Скопирован файл с меткой: /content/drive/MyDrive/Учебные БД/Исходники капуста/train/labels/frame1_0142.jpg_transformed_0.txt -> /content/drive/MyDrive/Учебные БД/data_store/train/labels/728.txt\n",
            "Скопирован файл с меткой: /content/drive/MyDrive/Учебные БД/Исходники капуста/train/labels/frame1_0257.jpg_transformed_8.txt -> /content/drive/MyDrive/Учебные БД/data_store/train/labels/729.txt\n",
            "Скопирован файл с меткой: /content/drive/MyDrive/Учебные БД/Исходники капуста/train/labels/frame1_0142.jpg_transformed_9.txt -> /content/drive/MyDrive/Учебные БД/data_store/train/labels/730.txt\n",
            "Скопирован файл с меткой: /content/drive/MyDrive/Учебные БД/Исходники капуста/train/labels/frame1_0233.jpg_transformed_0.txt -> /content/drive/MyDrive/Учебные БД/data_store/train/labels/731.txt\n",
            "Скопирован файл с меткой: /content/drive/MyDrive/Учебные БД/Исходники капуста/train/labels/frame1_0233.jpg_transformed_9.txt -> /content/drive/MyDrive/Учебные БД/data_store/train/labels/732.txt\n",
            "Скопирован файл с меткой: /content/drive/MyDrive/Учебные БД/Исходники капуста/train/labels/frame1_0241.jpg_transformed_9.txt -> /content/drive/MyDrive/Учебные БД/data_store/train/labels/733.txt\n",
            "Скопирован файл с меткой: /content/drive/MyDrive/Учебные БД/Исходники капуста/train/labels/frame1_0128.jpg_transformed_0.txt -> /content/drive/MyDrive/Учебные БД/data_store/train/labels/734.txt\n",
            "Скопирован файл с меткой: /content/drive/MyDrive/Учебные БД/Исходники капуста/train/labels/frame1_0202.jpg_transformed_1.txt -> /content/drive/MyDrive/Учебные БД/data_store/train/labels/735.txt\n",
            "Скопирован файл с меткой: /content/drive/MyDrive/Учебные БД/Исходники капуста/train/labels/frame1_0151.jpg_transformed_6.txt -> /content/drive/MyDrive/Учебные БД/data_store/train/labels/736.txt\n",
            "Скопирован файл с меткой: /content/drive/MyDrive/Учебные БД/Исходники капуста/train/labels/frame1_0257.jpg_transformed_5.txt -> /content/drive/MyDrive/Учебные БД/data_store/train/labels/737.txt\n",
            "Скопирован файл с меткой: /content/drive/MyDrive/Учебные БД/Исходники капуста/train/labels/frame1_0128.jpg_transformed_4.txt -> /content/drive/MyDrive/Учебные БД/data_store/train/labels/738.txt\n",
            "Скопирован файл с меткой: /content/drive/MyDrive/Учебные БД/Исходники капуста/train/labels/frame1_0176.jpg_transformed_1.txt -> /content/drive/MyDrive/Учебные БД/data_store/train/labels/739.txt\n",
            "Скопирован файл с меткой: /content/drive/MyDrive/Учебные БД/Исходники капуста/train/labels/frame1_0181.jpg_transformed_4.txt -> /content/drive/MyDrive/Учебные БД/data_store/train/labels/740.txt\n",
            "Скопирован файл с меткой: /content/drive/MyDrive/Учебные БД/Исходники капуста/train/labels/frame1_0142.jpg_transformed_2.txt -> /content/drive/MyDrive/Учебные БД/data_store/train/labels/741.txt\n",
            "Скопирован файл с меткой: /content/drive/MyDrive/Учебные БД/Исходники капуста/train/labels/frame1_0241.jpg_transformed_7.txt -> /content/drive/MyDrive/Учебные БД/data_store/train/labels/742.txt\n",
            "Скопирован файл с меткой: /content/drive/MyDrive/Учебные БД/Исходники капуста/train/labels/frame1_0202.jpg_transformed_3.txt -> /content/drive/MyDrive/Учебные БД/data_store/train/labels/743.txt\n",
            "Скопирован файл с меткой: /content/drive/MyDrive/Учебные БД/Исходники капуста/train/labels/frame1_0257.jpg_transformed_7.txt -> /content/drive/MyDrive/Учебные БД/data_store/train/labels/744.txt\n",
            "Скопирован файл с меткой: /content/drive/MyDrive/Учебные БД/Исходники капуста/train/labels/frame1_0233.jpg_transformed_7.txt -> /content/drive/MyDrive/Учебные БД/data_store/train/labels/745.txt\n",
            "Скопирован файл с меткой: /content/drive/MyDrive/Учебные БД/Исходники капуста/train/labels/frame1_0202.jpg_transformed_6.txt -> /content/drive/MyDrive/Учебные БД/data_store/train/labels/746.txt\n",
            "Скопирован файл с меткой: /content/drive/MyDrive/Учебные БД/Исходники капуста/train/labels/frame1_0181.jpg_transformed_8.txt -> /content/drive/MyDrive/Учебные БД/data_store/train/labels/747.txt\n",
            "Скопирован файл с меткой: /content/drive/MyDrive/Учебные БД/Исходники капуста/train/labels/frame1_0128.jpg_transformed_2.txt -> /content/drive/MyDrive/Учебные БД/data_store/train/labels/748.txt\n",
            "Скопирован файл с меткой: /content/drive/MyDrive/Учебные БД/Исходники капуста/train/labels/frame1_0233.jpg_transformed_2.txt -> /content/drive/MyDrive/Учебные БД/data_store/train/labels/749.txt\n",
            "Скопирован файл с меткой: /content/drive/MyDrive/Учебные БД/Исходники капуста/train/labels/frame1_0128.jpg_transformed_8.txt -> /content/drive/MyDrive/Учебные БД/data_store/train/labels/750.txt\n",
            "Скопирован файл с меткой: /content/drive/MyDrive/Учебные БД/Исходники капуста/train/labels/frame1_0176.jpg_transformed_6.txt -> /content/drive/MyDrive/Учебные БД/data_store/train/labels/751.txt\n",
            "Скопирован файл с меткой: /content/drive/MyDrive/Учебные БД/Исходники капуста/train/labels/frame1_0151.jpg_transformed_1.txt -> /content/drive/MyDrive/Учебные БД/data_store/train/labels/752.txt\n",
            "Скопирован файл с меткой: /content/drive/MyDrive/Учебные БД/Исходники капуста/train/labels/frame1_0257.jpg_transformed_2.txt -> /content/drive/MyDrive/Учебные БД/data_store/train/labels/753.txt\n",
            "Скопирован файл с меткой: /content/drive/MyDrive/Учебные БД/Исходники капуста/train/labels/frame1_0202.jpg_transformed_9.txt -> /content/drive/MyDrive/Учебные БД/data_store/train/labels/754.txt\n",
            "Скопирован файл с меткой: /content/drive/MyDrive/Учебные БД/Исходники капуста/train/labels/frame1_0233.jpg_transformed_1.txt -> /content/drive/MyDrive/Учебные БД/data_store/train/labels/755.txt\n",
            "Скопирован файл с меткой: /content/drive/MyDrive/Учебные БД/Исходники капуста/train/labels/frame1_0128.jpg_transformed_7.txt -> /content/drive/MyDrive/Учебные БД/data_store/train/labels/756.txt\n",
            "Скопирован файл с меткой: /content/drive/MyDrive/Учебные БД/Исходники капуста/train/labels/frame1_0184.jpg_transformed_7.txt -> /content/drive/MyDrive/Учебные БД/data_store/train/labels/757.txt\n",
            "Скопирован файл с меткой: /content/drive/MyDrive/Учебные БД/Исходники капуста/train/labels/frame1_0125.jpg_transformed_8.txt -> /content/drive/MyDrive/Учебные БД/data_store/train/labels/758.txt\n",
            "Скопирован файл с меткой: /content/drive/MyDrive/Учебные БД/Исходники капуста/train/labels/frame1_0184.jpg_transformed_3.txt -> /content/drive/MyDrive/Учебные БД/data_store/train/labels/759.txt\n",
            "Скопирован файл с меткой: /content/drive/MyDrive/Учебные БД/Исходники капуста/train/labels/frame1_0125.jpg_transformed_5.txt -> /content/drive/MyDrive/Учебные БД/data_store/train/labels/760.txt\n",
            "Скопирован файл с меткой: /content/drive/MyDrive/Учебные БД/Исходники капуста/train/labels/frame1_0125.jpg_transformed_4.txt -> /content/drive/MyDrive/Учебные БД/data_store/train/labels/761.txt\n",
            "Скопирован файл с меткой: /content/drive/MyDrive/Учебные БД/Исходники капуста/train/labels/frame1_0125.jpg_transformed_1.txt -> /content/drive/MyDrive/Учебные БД/data_store/train/labels/762.txt\n",
            "Скопирован файл с меткой: /content/drive/MyDrive/Учебные БД/Исходники капуста/train/labels/frame1_0176.jpg_transformed_9.txt -> /content/drive/MyDrive/Учебные БД/data_store/train/labels/763.txt\n",
            "Скопирован файл с меткой: /content/drive/MyDrive/Учебные БД/Исходники капуста/train/labels/frame1_0184.jpg_transformed_6.txt -> /content/drive/MyDrive/Учебные БД/data_store/train/labels/764.txt\n",
            "Скопирован файл с меткой: /content/drive/MyDrive/Учебные БД/Исходники капуста/train/labels/frame1_0101.jpg_transformed_0.txt -> /content/drive/MyDrive/Учебные БД/data_store/train/labels/765.txt\n",
            "Скопирован файл с меткой: /content/drive/MyDrive/Учебные БД/Исходники капуста/train/labels/frame1_0125.jpg_transformed_0.txt -> /content/drive/MyDrive/Учебные БД/data_store/train/labels/766.txt\n",
            "Скопирован файл с меткой: /content/drive/MyDrive/Учебные БД/Исходники капуста/train/labels/frame1_0125.jpg_transformed_6.txt -> /content/drive/MyDrive/Учебные БД/data_store/train/labels/767.txt\n",
            "Скопирован файл с меткой: /content/drive/MyDrive/Учебные БД/Исходники капуста/train/labels/frame1_0125.jpg_transformed_3.txt -> /content/drive/MyDrive/Учебные БД/data_store/train/labels/768.txt\n",
            "Скопирован файл с меткой: /content/drive/MyDrive/Учебные БД/Исходники капуста/train/labels/frame1_0184.jpg_transformed_0.txt -> /content/drive/MyDrive/Учебные БД/data_store/train/labels/769.txt\n",
            "Скопирован файл с меткой: /content/drive/MyDrive/Учебные БД/Исходники капуста/train/labels/frame1_0101.jpg_transformed_1.txt -> /content/drive/MyDrive/Учебные БД/data_store/train/labels/770.txt\n",
            "Скопирован файл с меткой: /content/drive/MyDrive/Учебные БД/Исходники капуста/train/labels/frame1_0125.jpg_transformed_7.txt -> /content/drive/MyDrive/Учебные БД/data_store/train/labels/771.txt\n",
            "Скопирован файл с меткой: /content/drive/MyDrive/Учебные БД/Исходники капуста/train/labels/frame1_0125.jpg_transformed_9.txt -> /content/drive/MyDrive/Учебные БД/data_store/train/labels/772.txt\n",
            "Скопирован файл с меткой: /content/drive/MyDrive/Учебные БД/Исходники капуста/train/labels/frame1_0125.jpg_transformed_2.txt -> /content/drive/MyDrive/Учебные БД/data_store/train/labels/773.txt\n",
            "Скопирован файл с меткой: /content/drive/MyDrive/Учебные БД/Исходники капуста/train/labels/frame1_0184.jpg_transformed_8.txt -> /content/drive/MyDrive/Учебные БД/data_store/train/labels/774.txt\n",
            "Скопирован файл с меткой: /content/drive/MyDrive/Учебные БД/Исходники капуста/train/labels/frame1_0184.jpg_transformed_2.txt -> /content/drive/MyDrive/Учебные БД/data_store/train/labels/775.txt\n",
            "Скопирован файл с меткой: /content/drive/MyDrive/Учебные БД/Исходники капуста/train/labels/frame1_0184.jpg_transformed_4.txt -> /content/drive/MyDrive/Учебные БД/data_store/train/labels/776.txt\n",
            "Скопирован файл с меткой: /content/drive/MyDrive/Учебные БД/Исходники капуста/train/labels/frame1_0184.jpg_transformed_9.txt -> /content/drive/MyDrive/Учебные БД/data_store/train/labels/777.txt\n",
            "Скопирован файл с меткой: /content/drive/MyDrive/Учебные БД/Исходники капуста/train/labels/frame1_0148.jpg_transformed_0.txt -> /content/drive/MyDrive/Учебные БД/data_store/train/labels/778.txt\n",
            "Скопирован файл с меткой: /content/drive/MyDrive/Учебные БД/Исходники капуста/train/labels/frame1_0184.jpg_transformed_1.txt -> /content/drive/MyDrive/Учебные БД/data_store/train/labels/779.txt\n",
            "Скопирован файл с меткой: /content/drive/MyDrive/Учебные БД/Исходники капуста/train/labels/frame1_0184.jpg_transformed_5.txt -> /content/drive/MyDrive/Учебные БД/data_store/train/labels/780.txt\n",
            "Скопирован файл с меткой: /content/drive/MyDrive/Учебные БД/Исходники капуста/train/labels/frame1_0176.jpg_transformed_8.txt -> /content/drive/MyDrive/Учебные БД/data_store/train/labels/781.txt\n",
            "\n",
            "Завершено.\n"
          ]
        }
      ]
    },
    {
      "cell_type": "markdown",
      "source": [
        "Определяем максимальный номер в новой базе в папке valid для определения номера с которого начнем перенумерацию новых файлов"
      ],
      "metadata": {
        "id": "58Sn_OstJRIB"
      }
    },
    {
      "cell_type": "code",
      "source": [
        "import os\n",
        "\n",
        "valid_images_folder = '/content/drive/MyDrive/Учебные БД/data_store/valid/images'\n",
        "\n",
        "# Проверяем существование папки\n",
        "if not os.path.exists(valid_images_folder):\n",
        "    os.makedirs(valid_images_folder)  # Создаем папку, если она не существует\n",
        "    max_number = 0\n",
        "else:\n",
        "    # Получаем список файлов в папке\n",
        "    files = os.listdir(valid_images_folder)\n",
        "\n",
        "    # Ищем максимальное число в именах файлов (без расширения и точки)\n",
        "    max_number = 0\n",
        "    for file_name in files:\n",
        "        file_base_name = os.path.splitext(file_name)[0]\n",
        "        try:\n",
        "            number = int(file_base_name)\n",
        "            max_number = max(max_number, number)\n",
        "        except ValueError:\n",
        "            pass  # Игнорируем файлы с неправильными именами\n",
        "\n",
        "print(f\"Максимальное число в именах файлов: {max_number}\")\n"
      ],
      "metadata": {
        "colab": {
          "base_uri": "https://localhost:8080/"
        },
        "id": "J_hLMkUOJQhc",
        "outputId": "992dc1d0-f391-4858-e8e0-a452ce673534"
      },
      "execution_count": null,
      "outputs": [
        {
          "output_type": "stream",
          "name": "stdout",
          "text": [
            "Максимальное число в именах файлов: 0\n"
          ]
        }
      ]
    },
    {
      "cell_type": "markdown",
      "source": [
        "Копируем файлы в valid"
      ],
      "metadata": {
        "id": "uo1cXuk7M5RL"
      }
    },
    {
      "cell_type": "code",
      "source": [
        "import os\n",
        "import shutil\n",
        "\n",
        "source_folder = f'/content/drive/MyDrive/Учебные БД/{start_folder}/valid/images/'\n",
        "destination_folder = '/content/drive/MyDrive/Учебные БД/data_store/valid/images/'\n",
        "\n",
        "# Проверяем, существует ли исходная папка\n",
        "if not os.path.exists(source_folder):\n",
        "    print(f\"Исходная папка '{source_folder}' не существует.\")\n",
        "else:\n",
        "    # Создаем папку назначения, если она не существует\n",
        "    os.makedirs(destination_folder, exist_ok=True)\n",
        "\n",
        "    file_count = max_number+1  # Начнем нумерацию с 100\n",
        "    file_mapping = {}  # Словарь для отображения имен файлов\n",
        "\n",
        "    for root, _, files in os.walk(source_folder):\n",
        "        for file in files:\n",
        "            source_path = os.path.join(root, file)\n",
        "            # Получаем базовое имя файла без расширения и точки\n",
        "            file_name = os.path.splitext(file)[0]\n",
        "            # Генерируем новое имя файла, начиная с 100\n",
        "            destination_filename = str(file_count)\n",
        "            destination_path = os.path.join(destination_folder, f\"{destination_filename}.jpg\")\n",
        "\n",
        "            # Копируем файл и увеличиваем счетчик\n",
        "            shutil.copy(source_path, destination_path)\n",
        "\n",
        "            # Добавляем запись в словарь\n",
        "            file_mapping[file_name] = destination_filename\n",
        "\n",
        "            file_count += 1\n",
        "            print(f\"Скопирован файл: {source_path} -> {destination_path}\")\n",
        "\n",
        "# Выводим словарь с отображением имен файлов\n",
        "print(\"\\nОтображение имен файлов:\")\n",
        "for source_name, destination_name in file_mapping.items():\n",
        "    print(f\"{source_name}: {destination_name}\")\n",
        "\n",
        "print(\"\\nЗавершено.\")\n"
      ],
      "metadata": {
        "colab": {
          "base_uri": "https://localhost:8080/"
        },
        "id": "mbrlOM5TE7bQ",
        "outputId": "4edb7da5-cf46-434a-f61e-9eecb3d729af"
      },
      "execution_count": null,
      "outputs": [
        {
          "output_type": "stream",
          "name": "stdout",
          "text": [
            "Скопирован файл: /content/drive/MyDrive/Учебные БД/data_2/valid/images/1.jpeg -> /content/drive/MyDrive/Учебные БД/data_store/valid/images/1.jpg\n",
            "Скопирован файл: /content/drive/MyDrive/Учебные БД/data_2/valid/images/51.jpeg -> /content/drive/MyDrive/Учебные БД/data_store/valid/images/2.jpg\n",
            "Скопирован файл: /content/drive/MyDrive/Учебные БД/data_2/valid/images/21.jpeg -> /content/drive/MyDrive/Учебные БД/data_store/valid/images/3.jpg\n",
            "Скопирован файл: /content/drive/MyDrive/Учебные БД/data_2/valid/images/11.jpeg -> /content/drive/MyDrive/Учебные БД/data_store/valid/images/4.jpg\n",
            "\n",
            "Отображение имен файлов:\n",
            "1: 1\n",
            "51: 2\n",
            "21: 3\n",
            "11: 4\n",
            "\n",
            "Завершено.\n"
          ]
        }
      ]
    },
    {
      "cell_type": "code",
      "source": [
        "source_folder_labels = f'/content/drive/MyDrive/Учебные БД/{start_folder}/valid/labels/'\n",
        "destination_folder_labels = '/content/drive/MyDrive/Учебные БД/data_store/valid/labels/'\n",
        "\n",
        "# Проверяем, существует ли исходная папка с метками\n",
        "if not os.path.exists(source_folder_labels):\n",
        "    print(f\"Исходная папка с метками '{source_folder_labels}' не существует.\")\n",
        "else:\n",
        "    # Создаем папку назначения для меток, если она не существует\n",
        "    os.makedirs(destination_folder_labels, exist_ok=True)\n",
        "\n",
        "    # Используем словарь file_mapping для переименования файлов\n",
        "    for source_name, destination_name in file_mapping.items():\n",
        "        source_path = os.path.join(source_folder_labels, f\"{source_name}.txt\")\n",
        "        destination_path = os.path.join(destination_folder_labels, f\"{destination_name}.txt\")\n",
        "\n",
        "        # Проверяем существование файла\n",
        "        if os.path.exists(source_path):\n",
        "            # Копируем файл и переименовываем\n",
        "            shutil.copy(source_path, destination_path)\n",
        "            print(f\"Скопирован файл с меткой: {source_path} -> {destination_path}\")\n",
        "        else:\n",
        "            print(f\"Файл с меткой не найден: {source_path}. Пропускаем.\")\n",
        "\n",
        "print(\"\\nЗавершено.\")\n"
      ],
      "metadata": {
        "colab": {
          "base_uri": "https://localhost:8080/"
        },
        "id": "rrML0h9rE7Yy",
        "outputId": "67c61725-e3b3-40a0-8b51-8388da1fb8f1"
      },
      "execution_count": null,
      "outputs": [
        {
          "output_type": "stream",
          "name": "stdout",
          "text": [
            "Скопирован файл с меткой: /content/drive/MyDrive/Учебные БД/data_2/valid/labels/1.txt -> /content/drive/MyDrive/Учебные БД/data_store/valid/labels/1.txt\n",
            "Скопирован файл с меткой: /content/drive/MyDrive/Учебные БД/data_2/valid/labels/51.txt -> /content/drive/MyDrive/Учебные БД/data_store/valid/labels/2.txt\n",
            "Скопирован файл с меткой: /content/drive/MyDrive/Учебные БД/data_2/valid/labels/21.txt -> /content/drive/MyDrive/Учебные БД/data_store/valid/labels/3.txt\n",
            "Скопирован файл с меткой: /content/drive/MyDrive/Учебные БД/data_2/valid/labels/11.txt -> /content/drive/MyDrive/Учебные БД/data_store/valid/labels/4.txt\n",
            "\n",
            "Завершено.\n"
          ]
        }
      ]
    },
    {
      "cell_type": "markdown",
      "source": [
        "# Поиск дублей картинок"
      ],
      "metadata": {
        "id": "7g2ENGb4SmCe"
      }
    },
    {
      "cell_type": "code",
      "source": [
        "import os\n",
        "import hashlib\n",
        "\n",
        "# Пути к папкам с изображениями\n",
        "folder_paths = {\n",
        "    'train_images': '/content/drive/MyDrive/Учебные БД/data_store/train/images'\n",
        "}\n",
        "\"\"\"\n",
        "folder_paths = {\n",
        "    'train_images': '/content/drive/MyDrive/Учебные БД/data_store/train/images',\n",
        "    'valid_images': '/content/drive/MyDrive/Учебные БД/data_store/valid/images'\n",
        "}\n",
        "\"\"\"\n",
        "# Словарь для хранения хеш-сумм изображений\n",
        "image_hashes = {}\n",
        "\n",
        "# Словарь для хранения найденных дублей\n",
        "duplicate_images = {}\n",
        "\n",
        "# Итерируемся по каждой папке\n",
        "for folder_name, folder_path in folder_paths.items():\n",
        "    # Получаем список файлов в папке\n",
        "    files = os.listdir(folder_path)\n",
        "\n",
        "    # Перебираем файлы и вычисляем хеш-суммы\n",
        "    for file_name in files:\n",
        "        if file_name.endswith(('.jpg', '.jpeg')):  # Учитываем только файлы с расширениями .jpg и .jpeg\n",
        "            image_path = os.path.join(folder_path, file_name)\n",
        "\n",
        "            # Вычисляем хеш-сумму изображения\n",
        "            with open(image_path, 'rb') as f:\n",
        "                image_data = f.read()\n",
        "                image_hash = hashlib.md5(image_data).hexdigest()\n",
        "\n",
        "            # Проверяем, есть ли такая хеш-сумма уже в словаре\n",
        "            if image_hash in image_hashes:\n",
        "                # Добавляем найденный дубль и его имя в словарь\n",
        "                if image_hash not in duplicate_images:\n",
        "                    duplicate_images[image_hash] = [image_hashes[image_hash]]\n",
        "                duplicate_images[image_hash].append((folder_name, file_name))\n",
        "            else:\n",
        "                image_hashes[image_hash] = (folder_name, file_name)\n",
        "\n",
        "# Выводим найденные дубли\n",
        "for image_hash, duplicate_list in duplicate_images.items():\n",
        "    print(f'Дублирующиеся хеш-суммы {image_hash}:')\n",
        "    for folder_name, file_name in duplicate_list:\n",
        "        print(f'  Папка: {folder_name}, Файл: {file_name}')\n"
      ],
      "metadata": {
        "id": "Kw0wEa6bE7WX",
        "colab": {
          "base_uri": "https://localhost:8080/"
        },
        "outputId": "104a465e-48c6-4286-f590-a7278c1a08d8"
      },
      "execution_count": null,
      "outputs": [
        {
          "output_type": "stream",
          "name": "stdout",
          "text": [
            "Дублирующиеся хеш-суммы 397e3f72b18838371a5d13e671c167ad:\n",
            "  Папка: train_images, Файл: 650.jpg\n",
            "  Папка: train_images, Файл: 684.jpg\n",
            "  Папка: train_images, Файл: 752.jpg\n",
            "Дублирующиеся хеш-суммы 7ea82c68bb85400fee768c0f6fc68269:\n",
            "  Папка: train_images, Файл: 686.jpg\n",
            "  Папка: train_images, Файл: 699.jpg\n",
            "Дублирующиеся хеш-суммы dd5b1ae0f553190be479140d2b2adec9:\n",
            "  Папка: train_images, Файл: 469.jpg\n",
            "  Папка: train_images, Файл: 706.jpg\n",
            "  Папка: train_images, Файл: 733.jpg\n",
            "Дублирующиеся хеш-суммы 473869d94ea389774fb4f1b6eeb83b29:\n",
            "  Папка: train_images, Файл: 719.jpg\n",
            "  Папка: train_images, Файл: 745.jpg\n",
            "Дублирующиеся хеш-суммы 907be02ae097e3182fedf00a363b00d6:\n",
            "  Папка: train_images, Файл: 711.jpg\n",
            "  Папка: train_images, Файл: 747.jpg\n",
            "Дублирующиеся хеш-суммы 1e1325d67c50cf92bcfd79c68907a06e:\n",
            "  Папка: train_images, Файл: 692.jpg\n",
            "  Папка: train_images, Файл: 753.jpg\n",
            "Дублирующиеся хеш-суммы 565df565c5fd408c7a7f72d08753d9f3:\n",
            "  Папка: train_images, Файл: 757.jpg\n",
            "  Папка: train_images, Файл: 774.jpg\n"
          ]
        }
      ]
    },
    {
      "cell_type": "code",
      "source": [],
      "metadata": {
        "id": "1nvFduWuE7Oi"
      },
      "execution_count": null,
      "outputs": []
    },
    {
      "cell_type": "markdown",
      "source": [
        "## Замена номера класса в папке с txt"
      ],
      "metadata": {
        "id": "cIOlT5I9be7M"
      }
    },
    {
      "cell_type": "code",
      "source": [
        "# в данном примере заменяем все классы в текстовых файлах с 0 на 1\n",
        "\n",
        "import os\n",
        "\n",
        "labels_folder = '/content/drive/MyDrive/Учебные БД/data_store/valid/labels'\n",
        "\n",
        "# Проверяем существование папки с метками\n",
        "if not os.path.exists(labels_folder):\n",
        "    print(f\"Папка с метками '{labels_folder}' не существует.\")\n",
        "else:\n",
        "    # Получаем список файлов в папке\n",
        "    files = os.listdir(labels_folder)\n",
        "\n",
        "    # Перебираем файлы и выполняем замену\n",
        "    for file_name in files:\n",
        "        if file_name.endswith('.txt'):  # Учитываем только текстовые файлы\n",
        "            file_path = os.path.join(labels_folder, file_name)\n",
        "\n",
        "            # Открываем файл для чтения и записи\n",
        "            with open(file_path, 'r') as file:\n",
        "                content = file.read()\n",
        "                # Заменяем все \"0 \" на \"1 \"\n",
        "                modified_content = content.replace(\"0 \", \"1 \")\n",
        "\n",
        "            # Записываем измененный контент обратно в файл\n",
        "            with open(file_path, 'w') as file:\n",
        "                file.write(modified_content)\n",
        "\n",
        "            print(f\"Заменены значения в файле: {file_path}\")\n",
        "\n",
        "print(\"\\nЗавершено.\")\n"
      ],
      "metadata": {
        "colab": {
          "base_uri": "https://localhost:8080/"
        },
        "id": "sORWf88-R7oU",
        "outputId": "b0a50370-40d6-48a5-dd9c-4d9510482057"
      },
      "execution_count": null,
      "outputs": [
        {
          "output_type": "stream",
          "name": "stdout",
          "text": [
            "Заменены значения в файле: /content/drive/MyDrive/Учебные БД/data_store/valid/labels/1.txt\n",
            "Заменены значения в файле: /content/drive/MyDrive/Учебные БД/data_store/valid/labels/2.txt\n",
            "Заменены значения в файле: /content/drive/MyDrive/Учебные БД/data_store/valid/labels/3.txt\n",
            "Заменены значения в файле: /content/drive/MyDrive/Учебные БД/data_store/valid/labels/4.txt\n",
            "\n",
            "Завершено.\n"
          ]
        }
      ]
    },
    {
      "cell_type": "markdown",
      "source": [
        "# Удаление строк с номером класса в папке с txt"
      ],
      "metadata": {
        "id": "hiFroa3bdfxY"
      }
    },
    {
      "cell_type": "code",
      "source": [
        "# в данном примере заменяем все строки с разметкой для класса 1\n",
        "import os\n",
        "\n",
        "labels_folder = '/content/drive/MyDrive/Учебные БД/data_store/valid/labels'\n",
        "\n",
        "# Проверяем, существует ли папка с метками\n",
        "if not os.path.exists(labels_folder):\n",
        "    print(f\"Папка с метками '{labels_folder}' не существует.\")\n",
        "else:\n",
        "    # Получаем список файлов в папке\n",
        "    files = os.listdir(labels_folder)\n",
        "\n",
        "    # Перебираем файлы\n",
        "    for file_name in files:\n",
        "        if file_name.endswith('.txt'):  # Учитываем только файлы с расширением .txt\n",
        "            file_path = os.path.join(labels_folder, file_name)\n",
        "\n",
        "            # Читаем содержимое файла\n",
        "            with open(file_path, 'r') as file:\n",
        "                lines = file.readlines()\n",
        "\n",
        "            # Удаляем строки, начинающиеся с \"1 \"\n",
        "            lines = [line for line in lines if not line.startswith('1 ')]\n",
        "\n",
        "            # Записываем обновленное содержимое обратно в файл\n",
        "            with open(file_path, 'w') as file:\n",
        "                file.writelines(lines)\n",
        "\n",
        "            print(f\"Удалены строки, начинающиеся с '1 ' в файле: {file_path}\")\n",
        "\n",
        "print(\"\\nЗавершено.\")\n"
      ],
      "metadata": {
        "colab": {
          "base_uri": "https://localhost:8080/"
        },
        "id": "tfwMoJ9OdfR6",
        "outputId": "10652b77-abca-4f43-beef-c2543a53c891"
      },
      "execution_count": null,
      "outputs": [
        {
          "output_type": "stream",
          "name": "stdout",
          "text": [
            "Удалены строки, начинающиеся с '1 ' в файле: /content/drive/MyDrive/Учебные БД/data_store/valid/labels/1.txt\n",
            "Удалены строки, начинающиеся с '1 ' в файле: /content/drive/MyDrive/Учебные БД/data_store/valid/labels/2.txt\n",
            "Удалены строки, начинающиеся с '1 ' в файле: /content/drive/MyDrive/Учебные БД/data_store/valid/labels/3.txt\n",
            "Удалены строки, начинающиеся с '1 ' в файле: /content/drive/MyDrive/Учебные БД/data_store/valid/labels/4.txt\n",
            "\n",
            "Завершено.\n"
          ]
        }
      ]
    },
    {
      "cell_type": "code",
      "source": [],
      "metadata": {
        "id": "ys67Pa9_R7l4"
      },
      "execution_count": null,
      "outputs": []
    },
    {
      "cell_type": "code",
      "source": [],
      "metadata": {
        "id": "U3PLaCVuR7jf"
      },
      "execution_count": null,
      "outputs": []
    },
    {
      "cell_type": "code",
      "source": [],
      "metadata": {
        "id": "28fYow1XR7gw"
      },
      "execution_count": null,
      "outputs": []
    },
    {
      "cell_type": "code",
      "source": [],
      "metadata": {
        "id": "r-emtg9LR7eZ"
      },
      "execution_count": null,
      "outputs": []
    },
    {
      "cell_type": "code",
      "source": [],
      "metadata": {
        "id": "1GZSX2yRR7ca"
      },
      "execution_count": null,
      "outputs": []
    },
    {
      "cell_type": "code",
      "source": [],
      "metadata": {
        "id": "KHWlog_XR7aG"
      },
      "execution_count": null,
      "outputs": []
    },
    {
      "cell_type": "code",
      "source": [],
      "metadata": {
        "id": "pW44uc-nR7Xv"
      },
      "execution_count": null,
      "outputs": []
    },
    {
      "cell_type": "code",
      "source": [],
      "metadata": {
        "id": "pVtnLjaAR7Sj"
      },
      "execution_count": null,
      "outputs": []
    },
    {
      "cell_type": "code",
      "source": [],
      "metadata": {
        "id": "gSaYu8M3R7P_"
      },
      "execution_count": null,
      "outputs": []
    },
    {
      "cell_type": "code",
      "source": [],
      "metadata": {
        "id": "za8FG3foR9G9"
      },
      "execution_count": null,
      "outputs": []
    },
    {
      "cell_type": "markdown",
      "source": [
        "Помойка разного кода:"
      ],
      "metadata": {
        "id": "YQEVKWuTR9v3"
      }
    },
    {
      "cell_type": "markdown",
      "source": [
        "# Поиск наибольшего номера в наименованиях файлов"
      ],
      "metadata": {
        "id": "dsAgeGInSYl3"
      }
    },
    {
      "cell_type": "code",
      "source": [
        "# Пути к папкам\n",
        "folder_paths = {\n",
        "    'train_images': '/content/drive/MyDrive/Учебные БД/data_2/train/images',\n",
        "    'train_labels': '/content/drive/MyDrive/Учебные БД/data_2/train/labels',\n",
        "    'valid_images': '/content/drive/MyDrive/Учебные БД/data_2/valid/images',\n",
        "    'valid_labels': '/content/drive/MyDrive/Учебные БД/data_2/valid/labels'\n",
        "}\n",
        "\n",
        "# Словарь для хранения максимальных чисел\n",
        "max_numbers = {}\n",
        "\n",
        "# Итерируемся по каждой папке и находим наибольший номер файла\n",
        "for folder_name, folder_path in folder_paths.items():\n",
        "    # Получаем список файлов в папке\n",
        "    files = os.listdir(folder_path)\n",
        "\n",
        "    # Инициализируем переменную для хранения максимального номера\n",
        "    max_number = 0\n",
        "\n",
        "    # Перебираем имена файлов и извлекаем номера\n",
        "    for file_name in files:\n",
        "        if file_name.endswith(('.jpg', '.jpeg', '.txt')):  # Учитываем только файлы с расширением .jpg, .jpeg и .txt\n",
        "            # Извлекаем номер из имени файла, удаляя расширение\n",
        "            file_number = int(file_name.split('.')[0])\n",
        "\n",
        "            # Проверяем, является ли текущий номер максимальным\n",
        "            if file_number > max_number:\n",
        "                max_number = file_number\n",
        "\n",
        "    # Записываем максимальный номер для текущей папки в словарь\n",
        "    max_numbers[folder_name] = max_number\n",
        "\"\"\"\n",
        "# Выводим наибольшие номера для каждой папки\n",
        "for folder_name, max_number in max_numbers.items():\n",
        "    print(f'Наибольший номер файла в папке {folder_name}: {max_number}')\n",
        "\"\"\"\n",
        "print (max_numbers['train_labels'])\n",
        "print (max_numbers['train_images'])\n",
        "print (max_numbers['valid_labels'])\n",
        "print (max_numbers['valid_images'])"
      ],
      "metadata": {
        "colab": {
          "base_uri": "https://localhost:8080/"
        },
        "id": "1GzzyAJfONvJ",
        "outputId": "5c6bacfc-67d3-47a6-cdc4-46cffe946cda"
      },
      "execution_count": null,
      "outputs": [
        {
          "output_type": "stream",
          "name": "stdout",
          "text": [
            "57\n",
            "57\n",
            "51\n",
            "51\n"
          ]
        }
      ]
    }
  ]
}